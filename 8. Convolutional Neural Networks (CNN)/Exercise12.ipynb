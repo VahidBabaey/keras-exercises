{
 "cells": [
  {
   "cell_type": "code",
   "execution_count": 1,
   "id": "opposite-installation",
   "metadata": {},
   "outputs": [],
   "source": [
    "import keras\n",
    "from keras.datasets import mnist\n",
    "from keras.models import Sequential\n",
    "from keras.layers import Conv2D, Conv2DTranspose\n",
    "import matplotlib.pyplot as plt\n",
    "import numpy as np"
   ]
  },
  {
   "cell_type": "code",
   "execution_count": 2,
   "id": "excellent-brazilian",
   "metadata": {},
   "outputs": [],
   "source": [
    "# Load MNIST dataset\n",
    "(input_train, target_train), (input_test, target_test) = mnist.load_data()"
   ]
  },
  {
   "cell_type": "code",
   "execution_count": 3,
   "id": "conceptual-publication",
   "metadata": {},
   "outputs": [
    {
     "data": {
      "text/plain": [
       "(60000, 28, 28)"
      ]
     },
     "execution_count": 3,
     "metadata": {},
     "output_type": "execute_result"
    }
   ],
   "source": [
    "input_train.shape"
   ]
  },
  {
   "cell_type": "code",
   "execution_count": 4,
   "id": "accurate-translation",
   "metadata": {},
   "outputs": [
    {
     "data": {
      "text/plain": [
       "(10000, 28, 28)"
      ]
     },
     "execution_count": 4,
     "metadata": {},
     "output_type": "execute_result"
    }
   ],
   "source": [
    "input_test.shape"
   ]
  },
  {
   "cell_type": "code",
   "execution_count": 5,
   "id": "swiss-input",
   "metadata": {},
   "outputs": [],
   "source": [
    "# Reshape data\n",
    "input_train = input_train.reshape(input_train.shape[0], 28, 28, 1)\n",
    "input_test = input_test.reshape(input_test.shape[0], 28, 28, 1)\n",
    "input_shape = (28, 28, 1)"
   ]
  },
  {
   "cell_type": "code",
   "execution_count": 6,
   "id": "damaged-score",
   "metadata": {},
   "outputs": [],
   "source": [
    "# Parse numbers as floats\n",
    "input_train = input_train.astype('float32')\n",
    "input_test = input_test.astype('float32')"
   ]
  },
  {
   "cell_type": "code",
   "execution_count": 7,
   "id": "national-joyce",
   "metadata": {},
   "outputs": [],
   "source": [
    "# Normalize data\n",
    "input_train = input_train / 255\n",
    "input_test = input_test / 255"
   ]
  },
  {
   "cell_type": "code",
   "execution_count": 8,
   "id": "mexican-guitar",
   "metadata": {},
   "outputs": [],
   "source": [
    "# Create the model\n",
    "model = Sequential()\n",
    "# Encoder Part\n",
    "model.add(Conv2D(filters=32, kernel_size=(3, 3), activation='relu', input_shape=input_shape))\n",
    "model.add(Conv2D(filters=16, kernel_size=(3, 3), activation='relu'))\n",
    "model.add(Conv2D(filters=8 , kernel_size=(3, 3), activation='relu'))\n",
    "# Decoder Part\n",
    "model.add(Conv2DTranspose(filters=8 , kernel_size=(3,3), activation='relu'))\n",
    "model.add(Conv2DTranspose(filters=16, kernel_size=(3,3), activation='relu'))\n",
    "model.add(Conv2DTranspose(filters=32, kernel_size=(3,3), activation='relu'))\n",
    "# \n",
    "model.add(Conv2D(1, kernel_size=(3, 3), activation='sigmoid', padding='same'))"
   ]
  },
  {
   "cell_type": "code",
   "execution_count": 9,
   "id": "naval-notice",
   "metadata": {},
   "outputs": [],
   "source": [
    "# Compile and fit data\n",
    "model.compile(optimizer='adam', loss='binary_crossentropy')"
   ]
  },
  {
   "cell_type": "code",
   "execution_count": 10,
   "id": "potential-liquid",
   "metadata": {},
   "outputs": [
    {
     "name": "stdout",
     "output_type": "stream",
     "text": [
      "Model: \"sequential\"\n",
      "_________________________________________________________________\n",
      "Layer (type)                 Output Shape              Param #   \n",
      "=================================================================\n",
      "conv2d (Conv2D)              (None, 26, 26, 32)        320       \n",
      "_________________________________________________________________\n",
      "conv2d_1 (Conv2D)            (None, 24, 24, 16)        4624      \n",
      "_________________________________________________________________\n",
      "conv2d_2 (Conv2D)            (None, 22, 22, 8)         1160      \n",
      "_________________________________________________________________\n",
      "conv2d_transpose (Conv2DTran (None, 24, 24, 8)         584       \n",
      "_________________________________________________________________\n",
      "conv2d_transpose_1 (Conv2DTr (None, 26, 26, 16)        1168      \n",
      "_________________________________________________________________\n",
      "conv2d_transpose_2 (Conv2DTr (None, 28, 28, 32)        4640      \n",
      "_________________________________________________________________\n",
      "conv2d_3 (Conv2D)            (None, 28, 28, 1)         289       \n",
      "=================================================================\n",
      "Total params: 12,785\n",
      "Trainable params: 12,785\n",
      "Non-trainable params: 0\n",
      "_________________________________________________________________\n"
     ]
    }
   ],
   "source": [
    "model.summary()"
   ]
  },
  {
   "cell_type": "code",
   "execution_count": 11,
   "id": "coastal-senate",
   "metadata": {},
   "outputs": [
    {
     "name": "stdout",
     "output_type": "stream",
     "text": [
      "48/48 [==============================] - 124s 3s/step - loss: 0.4891 - val_loss: 0.0961\n"
     ]
    },
    {
     "data": {
      "text/plain": [
       "<tensorflow.python.keras.callbacks.History at 0x19b5d541220>"
      ]
     },
     "execution_count": 11,
     "metadata": {},
     "output_type": "execute_result"
    }
   ],
   "source": [
    "model.fit(x = input_train, y = input_train, epochs = 1, batch_size = 1000, validation_split = 0.2)"
   ]
  },
  {
   "cell_type": "code",
   "execution_count": 12,
   "id": "artificial-vehicle",
   "metadata": {},
   "outputs": [
    {
     "data": {
      "text/plain": [
       "(8, 28, 28, 1)"
      ]
     },
     "execution_count": 12,
     "metadata": {},
     "output_type": "execute_result"
    }
   ],
   "source": [
    "# Generate reconstructions\n",
    "# we want to predict 8 images!\n",
    "number_of_samples = 8\n",
    "samples = input_test[:number_of_samples]\n",
    "targets = target_test[:number_of_samples]\n",
    "reconstructions = model.predict(samples)\n",
    "reconstructions.shape"
   ]
  },
  {
   "cell_type": "code",
   "execution_count": 13,
   "id": "hydraulic-valve",
   "metadata": {},
   "outputs": [],
   "source": [
    "#sample = samples[0][:, :, :]\n",
    "#sample.shape\n",
    "#targets"
   ]
  },
  {
   "cell_type": "code",
   "execution_count": 14,
   "id": "sound-pantyhose",
   "metadata": {},
   "outputs": [
    {
     "data": {
      "image/png": "[encoded data removed]",
      "text/plain": [
       "<Figure size 432x288 with 2 Axes>"
      ]
     },
     "metadata": {
      "needs_background": "light"
     },
     "output_type": "display_data"
    },
    {
     "data": {
      "image/png": "[encoded data removed]",
      "text/plain": [
       "<Figure size 432x288 with 2 Axes>"
      ]
     },
     "metadata": {
      "needs_background": "light"
     },
     "output_type": "display_data"
    },
    {
     "data": {
      "image/png": "[encoded data removed]",
      "text/plain": [
       "<Figure size 432x288 with 2 Axes>"
      ]
     },
     "metadata": {
      "needs_background": "light"
     },
     "output_type": "display_data"
    },
    {
     "data": {
      "image/png": "[encoded data removed]",
      "text/plain": [
       "<Figure size 432x288 with 2 Axes>"
      ]
     },
     "metadata": {
      "needs_background": "light"
     },
     "output_type": "display_data"
    },
    {
     "data": {
      "image/png": "[encoded data removed]",
      "text/plain": [
       "<Figure size 432x288 with 2 Axes>"
      ]
     },
     "metadata": {
      "needs_background": "light"
     },
     "output_type": "display_data"
    },
    {
     "data": {
      "image/png": "[encoded data removed]",
      "text/plain": [
       "<Figure size 432x288 with 2 Axes>"
      ]
     },
     "metadata": {
      "needs_background": "light"
     },
     "output_type": "display_data"
    },
    {
     "data": {
      "image/png": "[encoded data removed]",
      "text/plain": [
       "<Figure size 432x288 with 2 Axes>"
      ]
     },
     "metadata": {
      "needs_background": "light"
     },
     "output_type": "display_data"
    },
    {
     "data": {
      "image/png": "[encoded data removed]",
      "text/plain": [
       "<Figure size 432x288 with 2 Axes>"
      ]
     },
     "metadata": {
      "needs_background": "light"
     },
     "output_type": "display_data"
    }
   ],
   "source": [
    "# Plot reconstructions\n",
    "for i in np.arange(0, number_of_samples):\n",
    "    \n",
    "    # Get the sample and the reconstruction\n",
    "    sample = samples[i][:, :, 0]\n",
    "    reconstruction = reconstructions[i][:, :, 0]\n",
    "    \n",
    "    # Original Images\n",
    "    input_class = targets[i]\n",
    "    \n",
    "    # Matplotlib preparations\n",
    "    fig, axes = plt.subplots(1, 2)\n",
    "    # Plot sample and reconstruciton\n",
    "    plt.gray()\n",
    "    axes[0].imshow(sample)\n",
    "    axes[0].set_title('Original image')\n",
    "    axes[1].imshow(reconstruction)\n",
    "    axes[1].set_title('Reconstruction Image')\n",
    "    fig.suptitle(f'target = {input_class}')\n",
    "    plt.show()"
   ]
  },
  {
   "cell_type": "code",
   "execution_count": 15,
   "id": "welcome-skating",
   "metadata": {},
   "outputs": [
    {
     "data": {
      "text/plain": [
       "array([[0.        , 0.        , 0.        , 0.        , 0.        ,\n",
       "        0.        , 0.        , 0.        , 0.        , 0.        ,\n",
       "        0.        , 0.        , 0.        , 0.        , 0.        ,\n",
       "        0.        , 0.        , 0.        , 0.        , 0.        ,\n",
       "        0.        , 0.        , 0.        , 0.        , 0.        ,\n",
       "        0.        , 0.        , 0.        ],\n",
       "       [0.        , 0.        , 0.        , 0.        , 0.        ,\n",
       "        0.        , 0.        , 0.        , 0.        , 0.        ,\n",
       "        0.        , 0.        , 0.        , 0.        , 0.        ,\n",
       "        0.        , 0.        , 0.        , 0.        , 0.        ,\n",
       "        0.        , 0.        , 0.        , 0.        , 0.        ,\n",
       "        0.        , 0.        , 0.        ],\n",
       "       [0.        , 0.        , 0.        , 0.        , 0.        ,\n",
       "        0.        , 0.        , 0.        , 0.        , 0.        ,\n",
       "        0.        , 0.        , 0.        , 0.        , 0.        ,\n",
       "        0.        , 0.        , 0.        , 0.        , 0.        ,\n",
       "        0.        , 0.        , 0.        , 0.        , 0.        ,\n",
       "        0.        , 0.        , 0.        ],\n",
       "       [0.        , 0.        , 0.        , 0.        , 0.        ,\n",
       "        0.        , 0.        , 0.        , 0.        , 0.        ,\n",
       "        0.        , 0.        , 0.        , 0.        , 0.        ,\n",
       "        0.        , 0.        , 0.        , 0.        , 0.        ,\n",
       "        0.        , 0.        , 0.        , 0.        , 0.        ,\n",
       "        0.        , 0.        , 0.        ],\n",
       "       [0.        , 0.        , 0.        , 0.        , 0.        ,\n",
       "        0.        , 0.        , 0.        , 0.        , 0.        ,\n",
       "        0.        , 0.        , 0.        , 0.        , 0.        ,\n",
       "        0.        , 0.        , 0.        , 0.        , 0.        ,\n",
       "        0.        , 0.        , 0.        , 0.        , 0.        ,\n",
       "        0.        , 0.        , 0.        ],\n",
       "       [0.        , 0.        , 0.        , 0.        , 0.        ,\n",
       "        0.        , 0.        , 0.        , 0.        , 0.        ,\n",
       "        0.        , 0.        , 0.        , 0.        , 0.        ,\n",
       "        0.        , 0.        , 0.        , 0.        , 0.        ,\n",
       "        0.        , 0.        , 0.        , 0.        , 0.        ,\n",
       "        0.        , 0.        , 0.        ],\n",
       "       [0.        , 0.        , 0.        , 0.        , 0.        ,\n",
       "        0.        , 0.        , 0.        , 0.        , 0.        ,\n",
       "        0.        , 0.05490196, 0.58431375, 0.75686276, 0.01960784,\n",
       "        0.        , 0.        , 0.        , 0.        , 0.        ,\n",
       "        0.        , 0.        , 0.        , 0.        , 0.        ,\n",
       "        0.        , 0.        , 0.        ],\n",
       "       [0.        , 0.        , 0.        , 0.        , 0.        ,\n",
       "        0.        , 0.        , 0.        , 0.        , 0.        ,\n",
       "        0.35686275, 0.8784314 , 0.99215686, 0.99215686, 0.07450981,\n",
       "        0.        , 0.        , 0.        , 0.        , 0.        ,\n",
       "        0.        , 0.        , 0.        , 0.        , 0.        ,\n",
       "        0.        , 0.        , 0.        ],\n",
       "       [0.        , 0.        , 0.        , 0.        , 0.        ,\n",
       "        0.        , 0.        , 0.        , 0.        , 0.10980392,\n",
       "        0.92156863, 0.99607843, 0.99215686, 0.99215686, 0.6509804 ,\n",
       "        0.07058824, 0.        , 0.        , 0.        , 0.        ,\n",
       "        0.        , 0.        , 0.        , 0.        , 0.        ,\n",
       "        0.        , 0.        , 0.        ],\n",
       "       [0.        , 0.        , 0.        , 0.        , 0.        ,\n",
       "        0.        , 0.        , 0.        , 0.        , 0.5647059 ,\n",
       "        0.99215686, 0.99607843, 0.99215686, 0.99215686, 0.99215686,\n",
       "        0.93333334, 0.4509804 , 0.02352941, 0.        , 0.        ,\n",
       "        0.        , 0.        , 0.        , 0.        , 0.        ,\n",
       "        0.        , 0.        , 0.        ],\n",
       "       [0.        , 0.        , 0.        , 0.        , 0.        ,\n",
       "        0.        , 0.        , 0.        , 0.12156863, 0.94509804,\n",
       "        0.99215686, 0.8156863 , 0.7254902 , 0.99215686, 0.99215686,\n",
       "        0.99215686, 0.90588236, 0.09411765, 0.        , 0.        ,\n",
       "        0.        , 0.        , 0.        , 0.        , 0.        ,\n",
       "        0.        , 0.        , 0.        ],\n",
       "       [0.        , 0.        , 0.        , 0.        , 0.        ,\n",
       "        0.        , 0.        , 0.        , 0.30980393, 0.99607843,\n",
       "        0.75686276, 0.        , 0.03137255, 0.38431373, 0.85882354,\n",
       "        0.99607843, 1.        , 0.7882353 , 0.07058824, 0.        ,\n",
       "        0.        , 0.        , 0.        , 0.        , 0.        ,\n",
       "        0.        , 0.        , 0.        ],\n",
       "       [0.        , 0.        , 0.        , 0.        , 0.        ,\n",
       "        0.        , 0.        , 0.        , 0.3372549 , 0.99215686,\n",
       "        0.3137255 , 0.        , 0.        , 0.        , 0.7137255 ,\n",
       "        0.99215686, 0.99607843, 0.7490196 , 0.04705882, 0.        ,\n",
       "        0.        , 0.        , 0.        , 0.        , 0.        ,\n",
       "        0.        , 0.        , 0.        ],\n",
       "       [0.        , 0.        , 0.        , 0.        , 0.        ,\n",
       "        0.        , 0.        , 0.        , 0.6862745 , 0.99215686,\n",
       "        0.60784316, 0.        , 0.        , 0.        , 0.91764706,\n",
       "        0.99215686, 0.99607843, 0.5294118 , 0.        , 0.        ,\n",
       "        0.        , 0.        , 0.        , 0.        , 0.        ,\n",
       "        0.        , 0.        , 0.        ],\n",
       "       [0.        , 0.        , 0.        , 0.        , 0.        ,\n",
       "        0.        , 0.        , 0.        , 0.3372549 , 0.99215686,\n",
       "        0.8156863 , 0.15686275, 0.33333334, 0.6509804 , 0.9843137 ,\n",
       "        0.92941177, 0.99607843, 0.9254902 , 0.16470589, 0.        ,\n",
       "        0.        , 0.        , 0.        , 0.        , 0.        ,\n",
       "        0.        , 0.        , 0.        ],\n",
       "       [0.        , 0.        , 0.        , 0.        , 0.        ,\n",
       "        0.        , 0.        , 0.        , 0.07058824, 0.93333334,\n",
       "        0.99215686, 0.99607843, 0.99215686, 0.99215686, 0.7254902 ,\n",
       "        0.14117648, 0.84705883, 0.99215686, 0.59607846, 0.        ,\n",
       "        0.        , 0.        , 0.        , 0.        , 0.        ,\n",
       "        0.        , 0.        , 0.        ],\n",
       "       [0.        , 0.        , 0.        , 0.        , 0.        ,\n",
       "        0.        , 0.        , 0.        , 0.        , 0.26666668,\n",
       "        0.9411765 , 1.        , 0.99607843, 0.5686275 , 0.03137255,\n",
       "        0.        , 0.5254902 , 0.99607843, 0.8745098 , 0.13725491,\n",
       "        0.        , 0.        , 0.        , 0.        , 0.        ,\n",
       "        0.        , 0.        , 0.        ],\n",
       "       [0.        , 0.        , 0.        , 0.        , 0.        ,\n",
       "        0.        , 0.        , 0.        , 0.        , 0.        ,\n",
       "        0.26666668, 0.61960787, 0.5568628 , 0.04705882, 0.        ,\n",
       "        0.        , 0.03529412, 0.6862745 , 0.99215686, 0.6313726 ,\n",
       "        0.        , 0.        , 0.        , 0.        , 0.        ,\n",
       "        0.        , 0.        , 0.        ],\n",
       "       [0.        , 0.        , 0.        , 0.        , 0.        ,\n",
       "        0.        , 0.        , 0.        , 0.        , 0.        ,\n",
       "        0.        , 0.        , 0.        , 0.        , 0.        ,\n",
       "        0.        , 0.        , 0.34509805, 0.99215686, 0.8862745 ,\n",
       "        0.07058824, 0.        , 0.        , 0.        , 0.        ,\n",
       "        0.        , 0.        , 0.        ],\n",
       "       [0.        , 0.        , 0.        , 0.        , 0.        ,\n",
       "        0.        , 0.        , 0.        , 0.        , 0.        ,\n",
       "        0.        , 0.        , 0.        , 0.        , 0.        ,\n",
       "        0.        , 0.        , 0.00784314, 0.6509804 , 0.99215686,\n",
       "        0.49411765, 0.        , 0.        , 0.        , 0.        ,\n",
       "        0.        , 0.        , 0.        ],\n",
       "       [0.        , 0.        , 0.        , 0.        , 0.        ,\n",
       "        0.        , 0.        , 0.        , 0.        , 0.        ,\n",
       "        0.        , 0.        , 0.        , 0.        , 0.        ,\n",
       "        0.        , 0.        , 0.        , 0.1882353 , 0.9607843 ,\n",
       "        0.99215686, 0.14901961, 0.        , 0.        , 0.        ,\n",
       "        0.        , 0.        , 0.        ],\n",
       "       [0.        , 0.        , 0.        , 0.        , 0.        ,\n",
       "        0.        , 0.        , 0.        , 0.        , 0.        ,\n",
       "        0.        , 0.        , 0.        , 0.        , 0.        ,\n",
       "        0.        , 0.        , 0.        , 0.        , 0.4509804 ,\n",
       "        0.99607843, 0.6745098 , 0.03529412, 0.        , 0.        ,\n",
       "        0.        , 0.        , 0.        ],\n",
       "       [0.        , 0.        , 0.        , 0.        , 0.        ,\n",
       "        0.        , 0.        , 0.        , 0.        , 0.        ,\n",
       "        0.        , 0.        , 0.        , 0.        , 0.        ,\n",
       "        0.        , 0.        , 0.        , 0.        , 0.08235294,\n",
       "        0.85490197, 0.99607843, 0.18039216, 0.        , 0.        ,\n",
       "        0.        , 0.        , 0.        ],\n",
       "       [0.        , 0.        , 0.        , 0.        , 0.        ,\n",
       "        0.        , 0.        , 0.        , 0.        , 0.        ,\n",
       "        0.        , 0.        , 0.        , 0.        , 0.        ,\n",
       "        0.        , 0.        , 0.        , 0.        , 0.        ,\n",
       "        0.11764706, 0.99607843, 0.64705884, 0.        , 0.        ,\n",
       "        0.        , 0.        , 0.        ],\n",
       "       [0.        , 0.        , 0.        , 0.        , 0.        ,\n",
       "        0.        , 0.        , 0.        , 0.        , 0.        ,\n",
       "        0.        , 0.        , 0.        , 0.        , 0.        ,\n",
       "        0.        , 0.        , 0.        , 0.        , 0.        ,\n",
       "        0.        , 0.7294118 , 0.95686275, 0.16470589, 0.        ,\n",
       "        0.        , 0.        , 0.        ],\n",
       "       [0.        , 0.        , 0.        , 0.        , 0.        ,\n",
       "        0.        , 0.        , 0.        , 0.        , 0.        ,\n",
       "        0.        , 0.        , 0.        , 0.        , 0.        ,\n",
       "        0.        , 0.        , 0.        , 0.        , 0.        ,\n",
       "        0.        , 0.05490196, 0.8745098 , 0.30588236, 0.        ,\n",
       "        0.        , 0.        , 0.        ],\n",
       "       [0.        , 0.        , 0.        , 0.        , 0.        ,\n",
       "        0.        , 0.        , 0.        , 0.        , 0.        ,\n",
       "        0.        , 0.        , 0.        , 0.        , 0.        ,\n",
       "        0.        , 0.        , 0.        , 0.        , 0.        ,\n",
       "        0.        , 0.        , 0.        , 0.        , 0.        ,\n",
       "        0.        , 0.        , 0.        ],\n",
       "       [0.        , 0.        , 0.        , 0.        , 0.        ,\n",
       "        0.        , 0.        , 0.        , 0.        , 0.        ,\n",
       "        0.        , 0.        , 0.        , 0.        , 0.        ,\n",
       "        0.        , 0.        , 0.        , 0.        , 0.        ,\n",
       "        0.        , 0.        , 0.        , 0.        , 0.        ,\n",
       "        0.        , 0.        , 0.        ]], dtype=float32)"
      ]
     },
     "execution_count": 15,
     "metadata": {},
     "output_type": "execute_result"
    }
   ],
   "source": [
    "sample"
   ]
  },
  {
   "cell_type": "code",
   "execution_count": 16,
   "id": "usual-header",
   "metadata": {},
   "outputs": [
    {
     "data": {
      "text/plain": [
       "array([[2.92641342e-01, 1.49308950e-01, 6.78308606e-02, 3.27597857e-02,\n",
       "        1.98547840e-02, 1.44539177e-02, 1.24846101e-02, 1.18043721e-02,\n",
       "        1.12303197e-02, 1.03325546e-02, 9.31099057e-03, 8.35403800e-03,\n",
       "        7.62030482e-03, 7.19472766e-03, 7.25811720e-03, 7.82418251e-03,\n",
       "        8.86261463e-03, 1.01060867e-02, 1.11756325e-02, 1.17976665e-02,\n",
       "        1.20143592e-02, 1.30816102e-02, 1.85733736e-02, 3.26289237e-02,\n",
       "        7.07899928e-02, 1.39273107e-01, 2.39169866e-01, 3.60668421e-01],\n",
       "       [1.27628714e-01, 2.04719603e-02, 2.74768472e-03, 5.51581383e-04,\n",
       "        1.86115503e-04, 9.06513451e-05, 5.88821786e-05, 4.56544876e-05,\n",
       "        3.40448350e-05, 2.37857166e-05, 1.70694220e-05, 1.31936240e-05,\n",
       "        1.15278945e-05, 1.15956163e-05, 1.33140429e-05, 1.74375709e-05,\n",
       "        2.52032114e-05, 3.59264595e-05, 4.69000806e-05, 5.44744071e-05,\n",
       "        5.75087943e-05, 7.75288136e-05, 1.95711851e-04, 8.39322805e-04,\n",
       "        5.17952442e-03, 2.56161094e-02, 9.09488201e-02, 2.45914608e-01],\n",
       "       [4.25235927e-02, 1.66043639e-03, 7.22903715e-05, 7.87173849e-06,\n",
       "        1.72293142e-06, 5.66560857e-07, 2.03919896e-07, 1.00974439e-07,\n",
       "        4.62247058e-08, 2.03014405e-08, 1.12193064e-08, 9.77628822e-09,\n",
       "        1.13062653e-08, 1.47724997e-08, 1.88537790e-08, 2.60620467e-08,\n",
       "        4.47861161e-08, 8.57308748e-08, 1.50817513e-07, 2.16659828e-07,\n",
       "        2.53260652e-07, 4.71770846e-07, 2.49376217e-06, 3.21325788e-05,\n",
       "        5.04970551e-04, 4.31713462e-03, 2.97803283e-02, 1.52752936e-01],\n",
       "       [1.47549808e-02, 1.94311142e-04, 3.19955689e-06, 2.82142253e-07,\n",
       "        4.74329447e-08, 7.49379581e-09, 1.26272703e-09, 2.94516411e-10,\n",
       "        6.80926079e-11, 2.47947982e-11, 2.42329958e-11, 6.85646540e-11,\n",
       "        2.88961022e-10, 5.73113279e-10, 4.35255443e-10, 2.47775078e-10,\n",
       "        2.17825286e-10, 3.82975485e-10, 9.49259338e-10, 1.91783456e-09,\n",
       "        2.78873546e-09, 7.55620189e-09, 8.06924660e-08, 2.36663709e-06,\n",
       "        6.98977092e-05, 8.23944807e-04, 9.07814503e-03, 9.42088962e-02],\n",
       "       [7.18131661e-03, 4.83392650e-05, 5.98847691e-07, 5.01959718e-08,\n",
       "        7.45197681e-09, 7.46380791e-10, 5.02460885e-11, 5.86987967e-12,\n",
       "        1.41309837e-12, 1.53198287e-12, 1.33525430e-11, 4.14908746e-10,\n",
       "        8.63760441e-09, 2.46362539e-08, 4.71112127e-09, 2.37114162e-10,\n",
       "        2.48507118e-11, 1.76555714e-11, 4.29526796e-11, 1.33152406e-10,\n",
       "        2.74532591e-10, 1.13031551e-09, 1.82581026e-08, 8.45356681e-07,\n",
       "        2.51920137e-05, 3.00258398e-04, 4.04462218e-03, 6.27597272e-02],\n",
       "       [5.05858660e-03, 2.66265233e-05, 3.11631226e-07, 2.68605884e-08,\n",
       "        3.31093464e-09, 1.52442337e-10, 5.18242393e-12, 6.90117180e-13,\n",
       "        8.15265715e-13, 1.62339257e-11, 2.47877763e-09, 6.78396987e-07,\n",
       "        4.90559869e-05, 1.12447160e-04, 3.62052833e-06, 8.96433328e-09,\n",
       "        5.85081358e-11, 5.19438832e-12, 6.38104673e-12, 2.11607988e-11,\n",
       "        6.38318010e-11, 3.93102773e-10, 8.08028489e-09, 4.21720671e-07,\n",
       "        1.12154830e-05, 1.40756369e-04, 2.02441216e-03, 4.80265915e-02],\n",
       "       [4.61176038e-03, 2.34341114e-05, 2.49990904e-07, 2.01161150e-08,\n",
       "        1.62715763e-09, 4.70072280e-11, 1.69522328e-12, 1.23902472e-12,\n",
       "        3.76238242e-11, 1.64884657e-08, 1.97421978e-05, 1.06079280e-02,\n",
       "        2.63562977e-01, 2.05441713e-01, 2.71403790e-03, 2.15359455e-06,\n",
       "        1.96585526e-09, 2.67350152e-11, 5.54848788e-12, 8.65545136e-12,\n",
       "        2.36663571e-11, 1.90302857e-10, 4.83500973e-09, 2.74658959e-07,\n",
       "        7.42343082e-06, 8.84361216e-05, 1.52200460e-03, 4.23272550e-02],\n",
       "       [4.56771255e-03, 2.27940800e-05, 2.29920332e-07, 1.44686867e-08,\n",
       "        8.14115553e-10, 2.27569786e-11, 2.87943996e-12, 3.75686079e-11,\n",
       "        2.64070064e-08, 6.67950153e-05, 8.61971974e-02, 9.10006762e-01,\n",
       "        9.80472922e-01, 9.42768931e-01, 2.34117806e-01, 6.44207001e-04,\n",
       "        8.73802207e-07, 2.53874144e-09, 7.32798960e-11, 1.40830160e-11,\n",
       "        1.55517127e-11, 1.05240448e-10, 3.14581072e-09, 1.99992712e-07,\n",
       "        5.74242040e-06, 7.19821037e-05, 1.34795904e-03, 4.04329002e-02],\n",
       "       [4.56771255e-03, 2.25550721e-05, 2.10972672e-07, 1.13181322e-08,\n",
       "        5.65241576e-10, 3.05384017e-11, 2.94310756e-11, 6.63213617e-09,\n",
       "        2.22189447e-05, 5.88684678e-02, 9.45025086e-01, 9.94749665e-01,\n",
       "        9.95960057e-01, 9.85940218e-01, 8.45443010e-01, 9.36655402e-02,\n",
       "        7.81178474e-04, 2.65520339e-06, 8.42784775e-09, 1.65945840e-10,\n",
       "        2.95868122e-11, 9.58294624e-11, 2.66630362e-09, 1.87854440e-07,\n",
       "        5.69093845e-06, 7.19418895e-05, 1.34795904e-03, 4.04329002e-02],\n",
       "       [4.56771255e-03, 2.22638482e-05, 1.96007264e-07, 9.62622604e-09,\n",
       "        5.69778058e-10, 8.28114591e-11, 5.92517257e-10, 7.87725412e-07,\n",
       "        3.12393904e-03, 7.30936885e-01, 9.87032473e-01, 9.94651198e-01,\n",
       "        9.92401838e-01, 9.81387973e-01, 9.42660749e-01, 7.68731356e-01,\n",
       "        1.58817858e-01, 1.21435523e-03, 1.91818867e-06, 4.09652978e-09,\n",
       "        1.04989836e-10, 1.13025027e-10, 2.32943131e-09, 1.74286257e-07,\n",
       "        5.60653552e-06, 7.18368537e-05, 1.34783983e-03, 4.04329002e-02],\n",
       "       [4.56771255e-03, 2.20961101e-05, 1.90483632e-07, 9.66229852e-09,\n",
       "        8.15553125e-10, 3.13964688e-10, 9.18898380e-09, 2.14671381e-05,\n",
       "        5.13819158e-02, 9.19605315e-01, 9.82312500e-01, 9.65148330e-01,\n",
       "        8.83219838e-01, 8.50628018e-01, 9.13863540e-01, 9.29669917e-01,\n",
       "        7.93958902e-01, 7.49853551e-02, 1.03349026e-04, 7.21923641e-08,\n",
       "        3.29133859e-10, 1.27647837e-10, 1.88798244e-09, 1.53933570e-07,\n",
       "        5.40657675e-06, 7.14258858e-05, 1.34733319e-03, 4.04329002e-02],\n",
       "       [4.56771255e-03, 2.21426453e-05, 1.97008376e-07, 1.16448913e-08,\n",
       "        1.46303825e-09, 1.15658172e-09, 7.24152187e-08, 1.60545111e-04,\n",
       "        1.97420448e-01, 9.37800884e-01, 9.41077113e-01, 5.75826824e-01,\n",
       "        1.41873807e-01, 2.31747419e-01, 7.69789577e-01, 9.51837540e-01,\n",
       "        9.29257393e-01, 4.15360689e-01, 1.04579329e-03, 4.50402212e-07,\n",
       "        6.89108048e-10, 1.14322433e-10, 1.34471212e-09, 1.24392358e-07,\n",
       "        5.02123021e-06, 7.05029888e-05, 1.34554505e-03, 4.04328108e-02],\n",
       "       [4.56771255e-03, 2.23774550e-05, 2.14201222e-07, 1.50851669e-08,\n",
       "        2.77464363e-09, 3.05743342e-09, 2.91073718e-07, 5.14954329e-04,\n",
       "        3.50439906e-01, 9.36533749e-01, 8.56650114e-01, 1.85845792e-01,\n",
       "        2.15489864e-02, 5.97138405e-02, 6.84683204e-01, 9.66036439e-01,\n",
       "        9.61327076e-01, 6.48228645e-01, 4.16105986e-03, 1.71598845e-06,\n",
       "        1.44444412e-09, 1.04635786e-10, 9.10412412e-10, 9.05156696e-08,\n",
       "        4.36745722e-06, 6.82705868e-05, 1.33991241e-03, 4.04250324e-02],\n",
       "       [4.56771255e-03, 2.26936336e-05, 2.34184711e-07, 1.91867322e-08,\n",
       "        4.25340074e-09, 5.18808863e-09, 4.54333644e-07, 6.86645508e-04,\n",
       "        4.17183638e-01, 9.47132885e-01, 9.01422620e-01, 3.46594632e-01,\n",
       "        7.25622773e-02, 2.04401642e-01, 8.42633724e-01, 9.79056478e-01,\n",
       "        9.71830368e-01, 7.60107756e-01, 1.72508359e-02, 1.09150360e-05,\n",
       "        6.80571022e-09, 1.92899335e-10, 7.92464427e-10, 6.17974720e-08,\n",
       "        3.49876382e-06, 6.36177137e-05, 1.32265687e-03, 4.03696597e-02],\n",
       "       [4.56771255e-03, 2.29492071e-05, 2.46817706e-07, 2.19991243e-08,\n",
       "        4.69673012e-09, 4.55830929e-09, 2.16229452e-07, 2.91228294e-04,\n",
       "        2.94936746e-01, 9.60967779e-01, 9.69832838e-01, 8.60701799e-01,\n",
       "        6.36135101e-01, 7.47477949e-01, 9.25178230e-01, 9.71958399e-01,\n",
       "        9.63800430e-01, 8.27413201e-01, 1.09686196e-01, 1.96427107e-04,\n",
       "        1.19662559e-07, 1.01861442e-09, 1.06377718e-09, 4.44450450e-08,\n",
       "        2.54352426e-06, 5.56098821e-05, 1.27610564e-03, 4.00937796e-02],\n",
       "       [4.56771255e-03, 2.30354035e-05, 2.49771176e-07, 2.22907737e-08,\n",
       "        4.01338207e-09, 2.17572516e-09, 3.78642611e-08, 3.01806394e-05,\n",
       "        5.46497405e-02, 9.19800520e-01, 9.82020080e-01, 9.72621977e-01,\n",
       "        9.32090402e-01, 8.83147120e-01, 8.37934136e-01, 8.43277931e-01,\n",
       "        8.86656404e-01, 8.47629905e-01, 4.76110876e-01, 6.88099861e-03,\n",
       "        5.88838338e-06, 1.55749191e-08, 2.79916956e-09, 3.89930221e-08,\n",
       "        1.70333453e-06, 4.41445591e-05, 1.17242336e-03, 3.93030047e-02],\n",
       "       [4.56771255e-03, 2.30015321e-05, 2.47325943e-07, 2.14066347e-08,\n",
       "        3.17957949e-09, 8.36465008e-10, 3.11340975e-09, 7.71076998e-07,\n",
       "        9.42021608e-04, 3.39352250e-01, 9.09474194e-01, 9.40931439e-01,\n",
       "        8.59832168e-01, 5.11474729e-01, 1.59854531e-01, 1.54090852e-01,\n",
       "        4.48271096e-01, 7.96208382e-01, 7.87602305e-01, 1.49619669e-01,\n",
       "        2.79843807e-04, 4.35171444e-07, 1.46515582e-08, 4.70300776e-08,\n",
       "        1.13747365e-06, 3.12491029e-05, 9.99510288e-04, 3.76318395e-02],\n",
       "       [4.56771255e-03, 2.29495363e-05, 2.46625461e-07, 2.13956941e-08,\n",
       "        2.89655899e-09, 4.12012979e-10, 3.33870903e-10, 1.20519967e-08,\n",
       "        3.05017784e-06, 1.70826912e-03, 1.18687898e-01, 3.32128108e-01,\n",
       "        1.34946704e-01, 8.74909759e-03, 6.60628080e-04, 1.11547112e-03,\n",
       "        3.22209299e-02, 6.27939582e-01, 8.74925137e-01, 6.41398191e-01,\n",
       "        1.04846954e-02, 1.87651221e-05, 1.99426864e-07, 1.13354325e-07,\n",
       "        9.29606927e-07, 2.04074586e-05, 7.83801079e-04, 3.48880291e-02],\n",
       "       [4.56771255e-03, 2.29405214e-05, 2.50280721e-07, 2.27749020e-08,\n",
       "        3.07545345e-09, 3.24057059e-10, 7.98982616e-11, 3.37508910e-10,\n",
       "        1.18802301e-08, 9.59147769e-07, 5.88293042e-05, 5.02705574e-04,\n",
       "        1.55985355e-04, 6.13383781e-06, 5.33431376e-07, 2.16653939e-06,\n",
       "        4.58568335e-04, 1.78272367e-01, 8.62562239e-01, 8.52240920e-01,\n",
       "        1.78985626e-01, 8.48025084e-04, 6.57596729e-06, 6.19857929e-07,\n",
       "        1.17778438e-06, 1.45830782e-05, 5.90085983e-04, 3.14304531e-02],\n",
       "       [4.56771255e-03, 2.29829366e-05, 2.55807493e-07, 2.47664289e-08,\n",
       "        3.71975917e-09, 3.75684844e-10, 5.16440814e-11, 4.96786084e-11,\n",
       "        2.28729161e-10, 3.18339044e-09, 4.11870396e-08, 1.55781365e-07,\n",
       "        6.83138595e-08, 6.34058317e-09, 1.44317192e-09, 1.49568997e-08,\n",
       "        5.49143533e-06, 1.06456280e-02, 6.84153020e-01, 8.96199882e-01,\n",
       "        6.66817784e-01, 3.11848521e-02, 2.84284353e-04, 7.42284328e-06,\n",
       "        2.91014476e-06, 1.41731434e-05, 4.74542379e-04, 2.81999409e-02],\n",
       "       [4.56771255e-03, 2.30154219e-05, 2.59764278e-07, 2.64394124e-08,\n",
       "        4.46034898e-09, 5.09191356e-10, 6.75397724e-11, 3.53452545e-11,\n",
       "        4.52444505e-11, 1.14949085e-10, 3.70777187e-10, 7.51636642e-10,\n",
       "        4.88565077e-10, 1.45269907e-10, 7.56626012e-11, 5.34900735e-10,\n",
       "        1.21928352e-07, 1.82896852e-04, 1.54564619e-01, 8.51939917e-01,\n",
       "        8.61068368e-01, 3.91340196e-01, 9.59697366e-03, 1.62184238e-04,\n",
       "        1.21853154e-05, 2.17885681e-05, 4.63545322e-04, 2.62522101e-02],\n",
       "       [5.09592891e-03, 2.97557763e-05, 4.00816901e-07, 5.01223028e-08,\n",
       "        1.04129789e-08, 1.48044221e-09, 2.47266152e-10, 1.33687061e-10,\n",
       "        1.19311755e-10, 1.34741496e-10, 1.89042448e-10, 2.42695031e-10,\n",
       "        2.20889529e-10, 1.31818945e-10, 8.34943920e-11, 2.10419585e-10,\n",
       "        1.00860440e-08, 5.29425870e-06, 7.83526897e-03, 6.12967670e-01,\n",
       "        9.01146531e-01, 8.03699970e-01, 1.74434036e-01, 2.97898054e-03,\n",
       "        1.07794243e-04, 5.86373499e-05, 6.16848469e-04, 2.65981853e-02],\n",
       "       [7.83574581e-03, 7.37353694e-05, 1.59597414e-06, 2.76264331e-07,\n",
       "        6.73262406e-08, 1.16168950e-08, 2.43195153e-09, 1.52929047e-09,\n",
       "        1.38846201e-09, 1.33728184e-09, 1.38719947e-09, 1.48625356e-09,\n",
       "        1.45509582e-09, 1.10074638e-09, 6.96975755e-10, 6.94704905e-10,\n",
       "        4.56505234e-09, 4.94745564e-07, 2.81363726e-04, 1.62335008e-01,\n",
       "        8.79192889e-01, 9.27046299e-01, 6.97700381e-01, 4.41915095e-02,\n",
       "        1.14157796e-03, 2.19702721e-04, 1.01795793e-03, 2.98187733e-02],\n",
       "       [1.78187788e-02, 4.25755978e-04, 2.18650239e-05, 5.12323959e-06,\n",
       "        1.62713218e-06, 3.54451089e-07, 9.09472675e-08, 6.53565948e-08,\n",
       "        6.35187973e-08, 6.22059346e-08, 6.25031475e-08, 6.35236432e-08,\n",
       "        6.14588203e-08, 5.06871167e-08, 3.27072804e-08, 1.96388861e-08,\n",
       "        2.78526038e-08, 3.68762784e-07, 3.81225145e-05, 1.36101544e-02,\n",
       "        6.61241531e-01, 9.23488677e-01, 8.41781497e-01, 1.82473600e-01,\n",
       "        5.68464398e-03, 6.92158937e-04, 2.07382441e-03, 4.06667292e-02],\n",
       "       [5.10314405e-02, 3.49020958e-03, 3.56167555e-04, 9.30430033e-05,\n",
       "        2.89337331e-05, 7.33133584e-06, 2.53854432e-06, 1.97145300e-06,\n",
       "        1.95871326e-06, 1.94760423e-06, 1.94847189e-06, 1.95471421e-06,\n",
       "        1.92159609e-06, 1.73068952e-06, 1.25429153e-06, 7.04525746e-07,\n",
       "        4.53896661e-07, 1.01410399e-06, 1.52163993e-05, 8.02040100e-04,\n",
       "        7.09695220e-02, 5.21465361e-01, 4.50980067e-01, 7.75506198e-02,\n",
       "        4.44406271e-03, 1.23542547e-03, 3.79052758e-03, 6.02902770e-02],\n",
       "       [1.26289636e-01, 2.25625038e-02, 4.67476249e-03, 1.36715174e-03,\n",
       "        4.62800264e-04, 1.72197819e-04, 8.06328899e-05, 6.97510841e-05,\n",
       "        6.97510841e-05, 6.97510841e-05, 6.97524156e-05, 6.97336582e-05,\n",
       "        6.92826361e-05, 6.64670006e-05, 5.65009650e-05, 3.75437958e-05,\n",
       "        2.03497184e-05, 1.73686112e-05, 4.68800463e-05, 3.15815210e-04,\n",
       "        3.21385264e-03, 1.78845227e-02, 2.50077546e-02, 9.22274590e-03,\n",
       "        2.92864442e-03, 2.56383419e-03, 1.10423565e-02, 1.04363501e-01],\n",
       "       [2.41684705e-01, 1.01196796e-01, 3.59735191e-02, 1.30658746e-02,\n",
       "        5.40360808e-03, 2.53018737e-03, 1.58953667e-03, 1.46326423e-03,\n",
       "        1.46326423e-03, 1.46326423e-03, 1.46320462e-03, 1.46365166e-03,\n",
       "        1.46275759e-03, 1.44985318e-03, 1.37457252e-03, 1.14801526e-03,\n",
       "        8.19087029e-04, 5.62369823e-04, 5.54770231e-04, 7.79032707e-04,\n",
       "        1.28036737e-03, 2.27907300e-03, 3.29759717e-03, 3.65251303e-03,\n",
       "        4.61867452e-03, 1.09004378e-02, 4.50583398e-02, 1.97264999e-01],\n",
       "       [3.80417973e-01, 2.74036914e-01, 1.83276057e-01, 1.19197726e-01,\n",
       "        7.76188076e-02, 5.75864911e-02, 4.78047132e-02, 4.67532873e-02,\n",
       "        4.67532873e-02, 4.67532873e-02, 4.67532873e-02, 4.67554033e-02,\n",
       "        4.67734933e-02, 4.67554629e-02, 4.64637578e-02, 4.46277261e-02,\n",
       "        4.01139557e-02, 3.30204070e-02, 2.58493125e-02, 2.05004215e-02,\n",
       "        1.79112554e-02, 1.69947147e-02, 2.00407505e-02, 2.90823281e-02,\n",
       "        4.93558943e-02, 9.90962684e-02, 1.96793050e-01, 3.40478808e-01]],\n",
       "      dtype=float32)"
      ]
     },
     "execution_count": 16,
     "metadata": {},
     "output_type": "execute_result"
    }
   ],
   "source": [
    "reconstruction"
   ]
  },
  {
   "cell_type": "code",
   "execution_count": null,
   "id": "leading-broadway",
   "metadata": {},
   "outputs": [],
   "source": []
  }
 ],
 "metadata": {
  "kernelspec": {
   "display_name": "Python 3",
   "language": "python",
   "name": "python3"
  },
  "language_info": {
   "codemirror_mode": {
    "name": "ipython",
    "version": 3
   },
   "file_extension": ".py",
   "mimetype": "text/x-python",
   "name": "python",
   "nbconvert_exporter": "python",
   "pygments_lexer": "ipython3",
   "version": "3.8.0"
  }
 },
 "nbformat": 4,
 "nbformat_minor": 5
}
