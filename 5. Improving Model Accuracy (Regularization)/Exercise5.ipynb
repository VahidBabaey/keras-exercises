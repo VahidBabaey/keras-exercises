{
 "cells": [
  {
   "cell_type": "code",
   "execution_count": 1,
   "metadata": {},
   "outputs": [],
   "source": [
    "# Load The dataset\n",
    "import pandas as pd\n",
    "X = pd.read_csv('.../avila-tr_feats.csv')\n",
    "y = pd.read_csv('.../avila-tr_target.csv')"
   ]
  },
  {
   "cell_type": "code",
   "execution_count": 2,
   "metadata": {},
   "outputs": [],
   "source": [
    "# Create the function that returns the keras model\n",
    "from keras.models import Sequential\n",
    "from keras.layers import Dense\n",
    "from keras.regularizers import l2\n",
    "def build_model(lambda_parameter):\n",
    "    model = Sequential()\n",
    "    model.add(Dense(10, input_dim=X.shape[1], activation='relu', kernel_regularizer=l2(lambda_parameter)))\n",
    "    model.add(Dense(6, activation='relu', kernel_regularizer=l2(lambda_parameter)))\n",
    "    model.add(Dense(4, activation='relu', kernel_regularizer=l2(lambda_parameter)))\n",
    "    model.add(Dense(1, activation='sigmoid'))\n",
    "    model.compile(loss='binary_crossentropy', optimizer='sgd', metrics=['accuracy'])\n",
    "    return model"
   ]
  },
  {
   "cell_type": "code",
   "execution_count": 3,
   "metadata": {},
   "outputs": [],
   "source": [
    "from keras.wrappers.scikit_learn import KerasClassifier\n",
    "from sklearn.model_selection import GridSearchCV\n",
    "# define a seed for random number generator so the result will be reproducible\n",
    "import numpy as np\n",
    "from tensorflow import random\n",
    "\n",
    "seed = 1\n",
    "np.random.seed(seed)\n",
    "random.set_seed(seed)\n",
    "# create the Keras wrapper with scikit learn\n",
    "model = KerasClassifier(build_fn=build_model, verbose=0)\n",
    "# define all the possible values for each hyperparameter\n",
    "lambda_parameter = [0.01, 0.5, 1]\n",
    "epochs = [50, 100]\n",
    "batch_size = [20]\n",
    "# create the dictionary containing all possible values of hyperparameters\n",
    "param_grid = dict(lambda_parameter=lambda_parameter, epochs=epochs, batch_size=batch_size)\n",
    "# perform 5-fold cross validation for ??????? store the results\n",
    "grid_seach = GridSearchCV(estimator=model, param_grid=param_grid, cv=5)\n",
    "results_1 = grid_seach.fit(X, y)"
   ]
  },
  {
   "cell_type": "code",
   "execution_count": 4,
   "metadata": {},
   "outputs": [
    {
     "name": "stdout",
     "output_type": "stream",
     "text": [
      "Best cross validation score = 0.7746884107589722\n",
      "Parameters for Best cross validation scor e= {'batch_size': 20, 'epochs': 100, 'lambda_parameter': 0.01}\n",
      "Accuracy 0.762128 (std 0.011390) for params {'batch_size': 20, 'epochs': 50, 'lambda_parameter': 0.01}\n",
      "Accuracy 0.589070 (std 0.008244) for params {'batch_size': 20, 'epochs': 50, 'lambda_parameter': 0.5}\n",
      "Accuracy 0.589070 (std 0.008244) for params {'batch_size': 20, 'epochs': 50, 'lambda_parameter': 1}\n",
      "Accuracy 0.774688 (std 0.005887) for params {'batch_size': 20, 'epochs': 100, 'lambda_parameter': 0.01}\n",
      "Accuracy 0.589070 (std 0.008244) for params {'batch_size': 20, 'epochs': 100, 'lambda_parameter': 0.5}\n",
      "Accuracy 0.589070 (std 0.008244) for params {'batch_size': 20, 'epochs': 100, 'lambda_parameter': 1}\n"
     ]
    }
   ],
   "source": [
    "# print the results for best cross validation score\n",
    "print(\"Best cross validation score =\", results_1.best_score_)\n",
    "print(\"Parameters for Best cross validation scor e=\", results_1.best_params_)\n",
    "\n",
    "# print the results for all evaluated hyperparameter combinations\n",
    "accuracy_means = results_1.cv_results_['mean_test_score']\n",
    "accuracy_stds = results_1.cv_results_['std_test_score']\n",
    "parameters = results_1.cv_results_['params']\n",
    "for p in range(len(parameters)):\n",
    "    print(\"Accuracy %f (std %f) for params %r\" % (accuracy_means[p], accuracy_stds[p], parameters[p]))"
   ]
  },
  {
   "cell_type": "code",
   "execution_count": 5,
   "metadata": {},
   "outputs": [],
   "source": [
    "# define a seed for random number generator so the result will be reproducible\n",
    "np.random.seed(seed)\n",
    "random.set_seed(seed)\n",
    "\n",
    "# create the Keras wrapper with scikit learn\n",
    "model = KerasClassifier(build_fn=build_model, verbose=0)\n",
    "# define all the possible values for each hyperparameter\n",
    "lambda_parameter = [0.001, 0.01, 0.05, 0.1]\n",
    "epochs = [100]\n",
    "batch_size = [20]\n",
    "# create the dictionary containing all possible values of hyperparameters\n",
    "param_grid = dict(lambda_parameter=lambda_parameter, epochs=epochs, batch_size=batch_size)\n",
    "# search the grid, perform 5-fold cross validation for each possible combination, store the results\n",
    "grid_seach = GridSearchCV(estimator=model, param_grid=param_grid, cv=5)\n",
    "results_2 = grid_seach.fit(X, y)"
   ]
  },
  {
   "cell_type": "code",
   "execution_count": 6,
   "metadata": {},
   "outputs": [
    {
     "name": "stdout",
     "output_type": "stream",
     "text": [
      "Best cross validation score = 0.79386385679245\n",
      "Parameters for Best cross validation score = {'batch_size': 20, 'epochs': 100, 'lambda_parameter': 0.001}\n",
      "Accuracy 0.793864 (std 0.003976) for params {'batch_size': 20, 'epochs': 100, 'lambda_parameter': 0.001}\n",
      "Accuracy 0.764813 (std 0.010095) for params {'batch_size': 20, 'epochs': 100, 'lambda_parameter': 0.01}\n",
      "Accuracy 0.589070 (std 0.008244) for params {'batch_size': 20, 'epochs': 100, 'lambda_parameter': 0.05}\n",
      "Accuracy 0.589070 (std 0.008244) for params {'batch_size': 20, 'epochs': 100, 'lambda_parameter': 0.1}\n"
     ]
    }
   ],
   "source": [
    "# print the results for best cross validation score\n",
    "print(\"Best cross validation score =\", results_2.best_score_)\n",
    "print(\"Parameters for Best cross validation score =\", results_2.best_params_)\n",
    "\n",
    "# print the results for the entire grid\n",
    "accuracy_means = results_2.cv_results_['mean_test_score']\n",
    "accuracy_stds = results_2.cv_results_['std_test_score']\n",
    "parameters = results_2.cv_results_['params']\n",
    "for p in range(len(parameters)):\n",
    "    print(\"Accuracy %f (std %f) for params %r\" % (accuracy_means[p], accuracy_stds[p], parameters[p]))"
   ]
  },
  {
   "cell_type": "code",
   "execution_count": 7,
   "metadata": {},
   "outputs": [],
   "source": [
    "# Create the function that returns the keras model\n",
    "from keras.layers import Dropout\n",
    "def build_model(rate):\n",
    "    model = Sequential()\n",
    "    model.add(Dense(10, input_dim=X.shape[1], activation='relu'))\n",
    "    model.add(Dropout(rate))\n",
    "    model.add(Dense(6, activation='relu'))\n",
    "    model.add(Dropout(rate))\n",
    "    model.add(Dense(4, activation='relu'))\n",
    "    model.add(Dropout(rate))\n",
    "    model.add(Dense(1, activation='sigmoid'))\n",
    "    model.compile(loss='binary_crossentropy', optimizer='sgd', metrics=['accuracy'])\n",
    "    return model"
   ]
  },
  {
   "cell_type": "code",
   "execution_count": 8,
   "metadata": {},
   "outputs": [],
   "source": [
    "# define a seed for random number generator so the result will be reproducible\n",
    "np.random.seed(seed)\n",
    "random.set_seed(seed)\n",
    "\n",
    "# create the Keras wrapper with scikit learn\n",
    "model = KerasClassifier(build_fn=build_model, verbose=0)\n",
    "# define all the possible values for each hyperparameter\n",
    "rate = [0, 0.1, 0.2]\n",
    "epochs = [50, 100]\n",
    "batch_size = [20]\n",
    "# create the dictionary containing all possible values of hyperparameters\n",
    "param_grid = dict(rate=rate, epochs=epochs, batch_size=batch_size)\n",
    "# perform 5-fold cross validation for 10 randomly selected combinations, store the results\n",
    "grid_seach = GridSearchCV(estimator=model, param_grid=param_grid, cv=5)\n",
    "results_3 = grid_seach.fit(X, y)"
   ]
  },
  {
   "cell_type": "code",
   "execution_count": 9,
   "metadata": {},
   "outputs": [
    {
     "name": "stdout",
     "output_type": "stream",
     "text": [
      "Best cross validation score= 0.7918504357337952\n",
      "Parameters for Best cross validation score= {'batch_size': 20, 'epochs': 100, 'rate': 0}\n",
      "Accuracy 0.778907 (std 0.007145) for params {'batch_size': 20, 'epochs': 50, 'rate': 0}\n",
      "Accuracy 0.771237 (std 0.010448) for params {'batch_size': 20, 'epochs': 50, 'rate': 0.1}\n",
      "Accuracy 0.747076 (std 0.012426) for params {'batch_size': 20, 'epochs': 50, 'rate': 0.2}\n",
      "Accuracy 0.791850 (std 0.005255) for params {'batch_size': 20, 'epochs': 100, 'rate': 0}\n",
      "Accuracy 0.780920 (std 0.010860) for params {'batch_size': 20, 'epochs': 100, 'rate': 0.1}\n",
      "Accuracy 0.763663 (std 0.008130) for params {'batch_size': 20, 'epochs': 100, 'rate': 0.2}\n"
     ]
    }
   ],
   "source": [
    "# print the results for best cross validation score\n",
    "print(\"Best cross validation score=\", results_3.best_score_)\n",
    "print(\"Parameters for Best cross validation score=\", results_3.best_params_)\n",
    "\n",
    "# print the results for the entire grid\n",
    "accuracy_means = results_3.cv_results_['mean_test_score']\n",
    "accuracy_stds = results_3.cv_results_['std_test_score']\n",
    "parameters = results_3.cv_results_['params']\n",
    "for p in range(len(parameters)):\n",
    "    print(\"Accuracy %f (std %f) for params %r\" % (accuracy_means[p], accuracy_stds[p], parameters[p]))"
   ]
  },
  {
   "cell_type": "code",
   "execution_count": 10,
   "metadata": {},
   "outputs": [],
   "source": [
    "# define a seed for random number generator so the result will be reproducible\n",
    "np.random.seed(seed)\n",
    "random.set_seed(seed)\n",
    "\n",
    "# create the Keras wrapper with scikit learn\n",
    "model = KerasClassifier(build_fn=build_model, verbose=0)\n",
    "# define all the possible values for each hyperparameter\n",
    "rate = [0.0, 0.05, 0.1]\n",
    "epochs = [100]\n",
    "batch_size = [20]\n",
    "# create the dictionary containing all possible values of hyperparameters\n",
    "param_grid = dict(rate=rate, epochs=epochs, batch_size=batch_size)\n",
    "# perform 5-fold cross validation for 10 randomly selected combinations, store the results\n",
    "grid_seach = GridSearchCV(estimator=model, param_grid=param_grid, cv=5)\n",
    "results_4 = grid_seach.fit(X, y)"
   ]
  },
  {
   "cell_type": "code",
   "execution_count": 11,
   "metadata": {},
   "outputs": [
    {
     "name": "stdout",
     "output_type": "stream",
     "text": [
      "Best cross validation score= 0.7907958030700684\n",
      "Parameters for Best cross validation score= {'batch_size': 20, 'epochs': 100, 'rate': 0.0}\n",
      "Accuracy 0.790796 (std 0.007418) for params {'batch_size': 20, 'epochs': 100, 'rate': 0.0}\n",
      "Accuracy 0.784851 (std 0.012968) for params {'batch_size': 20, 'epochs': 100, 'rate': 0.05}\n",
      "Accuracy 0.780920 (std 0.007420) for params {'batch_size': 20, 'epochs': 100, 'rate': 0.1}\n"
     ]
    }
   ],
   "source": [
    "# print the results for best cross validation score\n",
    "print(\"Best cross validation score=\", results_4.best_score_)\n",
    "print(\"Parameters for Best cross validation score=\", results_4.best_params_)\n",
    "\n",
    "# print the results for the entire grid\n",
    "accuracy_means = results_4.cv_results_['mean_test_score']\n",
    "accuracy_stds = results_4.cv_results_['std_test_score']\n",
    "parameters = results_4.cv_results_['params']\n",
    "for p in range(len(parameters)):\n",
    "    print(\"Accuracy %f (std %f) for params %r\" % (accuracy_means[p], accuracy_stds[p], parameters[p]))"
   ]
  },
  {
   "cell_type": "code",
   "execution_count": null,
   "metadata": {},
   "outputs": [],
   "source": []
  }
 ],
 "metadata": {
  "kernelspec": {
   "display_name": "Python 3",
   "language": "python",
   "name": "python3"
  },
  "language_info": {
   "codemirror_mode": {
    "name": "ipython",
    "version": 3
   },
   "file_extension": ".py",
   "mimetype": "text/x-python",
   "name": "python",
   "nbconvert_exporter": "python",
   "pygments_lexer": "ipython3",
   "version": "3.8.0"
  }
 },
 "nbformat": 4,
 "nbformat_minor": 4
}
