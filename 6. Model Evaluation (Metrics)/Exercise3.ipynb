{
 "cells": [
  {
   "cell_type": "code",
   "execution_count": 1,
   "id": "sitting-thread",
   "metadata": {},
   "outputs": [],
   "source": [
    "# Import the libraries\n",
    "import numpy as np\n",
    "import pandas as pd\n",
    "from tensorflow import random\n",
    "\n",
    "# Load the Data\n",
    "X = pd.read_csv(\".../aps_failure_training_feats.csv\")\n",
    "y = pd.read_csv(\".../aps_failure_training_target.csv\")"
   ]
  },
  {
   "cell_type": "code",
   "execution_count": 2,
   "id": "suspected-portsmouth",
   "metadata": {},
   "outputs": [],
   "source": [
    "# Split the data into training and testing sets\n",
    "from sklearn.model_selection import train_test_split\n",
    "seed = 42\n",
    "X_train, X_test, y_train, y_test= train_test_split(X, y, test_size=0.20, random_state=seed)"
   ]
  },
  {
   "cell_type": "code",
   "execution_count": 3,
   "id": "northern-recognition",
   "metadata": {},
   "outputs": [],
   "source": [
    "# Initialize StandardScaler\n",
    "from sklearn.preprocessing import StandardScaler\n",
    "sc=StandardScaler()\n",
    "\n",
    "# Transform the training data\n",
    "X_train = sc.fit_transform(X_train)\n",
    "X_train = pd.DataFrame(X_train,columns=X_test.columns)\n",
    "\n",
    "# Transform the testing data\n",
    "X_test=sc.transform(X_test)\n",
    "X_test=pd.DataFrame(X_test,columns=X_train.columns)"
   ]
  },
  {
   "cell_type": "code",
   "execution_count": 4,
   "id": "appointed-vintage",
   "metadata": {},
   "outputs": [],
   "source": [
    "# Import the relevant Keras libraries\n",
    "from keras.models import Sequential\n",
    "from keras.layers import Dense\n",
    "from keras.layers import Dropout\n",
    "\n",
    "np.random.seed(seed)\n",
    "random.set_seed(seed)\n",
    "model = Sequential()\n",
    "\n",
    "# Add the hidden dense layers and with dropout Layer\n",
    "model.add(Dense(units=64, activation='relu', kernel_initializer='uniform', input_dim=X_train.shape[1]))\n",
    "model.add(Dropout(rate=0.5))\n",
    "model.add(Dense(units=32, activation='relu', kernel_initializer='uniform'))\n",
    "model.add(Dropout(rate=0.4))\n",
    "model.add(Dense(units=16, activation='relu', kernel_initializer='uniform'))\n",
    "model.add(Dropout(rate=0.3))\n",
    "model.add(Dense(units=8, activation='relu', kernel_initializer='uniform'))\n",
    "model.add(Dropout(rate=0.2))\n",
    "model.add(Dense(units=4, activation='relu', kernel_initializer='uniform'))\n",
    "model.add(Dropout(rate=0.1))\n",
    "\n",
    "# Add Output Dense Layer\n",
    "model.add(Dense(units=1, activation='sigmoid', kernel_initializer='uniform'))\n",
    "\n",
    "# Compile the Model\n",
    "model.compile(optimizer='adam', loss='binary_crossentropy', metrics=['accuracy'])"
   ]
  },
  {
   "cell_type": "code",
   "execution_count": 5,
   "id": "expensive-cover",
   "metadata": {},
   "outputs": [
    {
     "name": "stdout",
     "output_type": "stream",
     "text": [
      "Epoch 1/100\n",
      "1920/1920 [==============================] - 6s 3ms/step - loss: 0.1644 - accuracy: 0.9825 - val_loss: 0.0351 - val_accuracy: 0.9842\n",
      "Epoch 2/100\n",
      "1920/1920 [==============================] - 4s 2ms/step - loss: 0.0406 - accuracy: 0.9840 - val_loss: 0.0318 - val_accuracy: 0.9842\n",
      "Epoch 3/100\n",
      "1920/1920 [==============================] - 4s 2ms/step - loss: 0.0381 - accuracy: 0.9840 - val_loss: 0.0303 - val_accuracy: 0.9842\n",
      "Epoch 4/100\n",
      "1920/1920 [==============================] - 4s 2ms/step - loss: 0.0342 - accuracy: 0.9840 - val_loss: 0.0313 - val_accuracy: 0.9842\n",
      "Epoch 5/100\n",
      "1920/1920 [==============================] - 4s 2ms/step - loss: 0.0360 - accuracy: 0.9840 - val_loss: 0.0301 - val_accuracy: 0.9842\n",
      "Epoch 6/100\n",
      "1920/1920 [==============================] - 4s 2ms/step - loss: 0.0324 - accuracy: 0.9840 - val_loss: 0.0302 - val_accuracy: 0.9842\n",
      "Epoch 7/100\n",
      "1920/1920 [==============================] - 4s 2ms/step - loss: 0.0321 - accuracy: 0.9860 - val_loss: 0.0294 - val_accuracy: 0.9917\n",
      "Epoch 8/100\n",
      "1920/1920 [==============================] - 4s 2ms/step - loss: 0.0320 - accuracy: 0.9890 - val_loss: 0.0298 - val_accuracy: 0.9921\n",
      "Epoch 9/100\n",
      "1920/1920 [==============================] - 4s 2ms/step - loss: 0.0311 - accuracy: 0.9901 - val_loss: 0.0305 - val_accuracy: 0.9912\n",
      "Epoch 10/100\n",
      "1920/1920 [==============================] - 4s 2ms/step - loss: 0.0287 - accuracy: 0.9897 - val_loss: 0.0278 - val_accuracy: 0.9916\n",
      "Epoch 11/100\n",
      "1920/1920 [==============================] - 4s 2ms/step - loss: 0.0260 - accuracy: 0.9905 - val_loss: 0.0297 - val_accuracy: 0.9911\n",
      "Epoch 12/100\n",
      "1920/1920 [==============================] - 4s 2ms/step - loss: 0.0273 - accuracy: 0.9905 - val_loss: 0.0274 - val_accuracy: 0.9915\n",
      "Epoch 13/100\n",
      "1920/1920 [==============================] - 4s 2ms/step - loss: 0.0272 - accuracy: 0.9910 - val_loss: 0.0280 - val_accuracy: 0.9911\n",
      "Epoch 14/100\n",
      "1920/1920 [==============================] - 4s 2ms/step - loss: 0.0269 - accuracy: 0.9908 - val_loss: 0.0265 - val_accuracy: 0.9930\n",
      "Epoch 15/100\n",
      "1920/1920 [==============================] - 4s 2ms/step - loss: 0.0268 - accuracy: 0.9912 - val_loss: 0.0283 - val_accuracy: 0.9912\n",
      "Epoch 16/100\n",
      "1920/1920 [==============================] - 4s 2ms/step - loss: 0.0261 - accuracy: 0.9906 - val_loss: 0.0263 - val_accuracy: 0.9920\n",
      "Epoch 17/100\n",
      "1920/1920 [==============================] - 4s 2ms/step - loss: 0.0266 - accuracy: 0.9911 - val_loss: 0.0293 - val_accuracy: 0.9916\n",
      "Epoch 18/100\n",
      "1920/1920 [==============================] - 4s 2ms/step - loss: 0.0258 - accuracy: 0.9908 - val_loss: 0.0268 - val_accuracy: 0.9921\n",
      "Epoch 19/100\n",
      "1920/1920 [==============================] - 4s 2ms/step - loss: 0.0242 - accuracy: 0.9919 - val_loss: 0.0256 - val_accuracy: 0.9929\n",
      "Epoch 20/100\n",
      "1920/1920 [==============================] - 4s 2ms/step - loss: 0.0247 - accuracy: 0.9914 - val_loss: 0.0254 - val_accuracy: 0.9926\n",
      "Epoch 21/100\n",
      "1920/1920 [==============================] - 4s 2ms/step - loss: 0.0236 - accuracy: 0.9924 - val_loss: 0.0291 - val_accuracy: 0.9919\n",
      "Epoch 22/100\n",
      "1920/1920 [==============================] - 4s 2ms/step - loss: 0.0243 - accuracy: 0.9913 - val_loss: 0.0254 - val_accuracy: 0.9926\n",
      "Epoch 23/100\n",
      "1920/1920 [==============================] - 4s 2ms/step - loss: 0.0250 - accuracy: 0.9911 - val_loss: 0.0283 - val_accuracy: 0.9926\n",
      "Epoch 24/100\n",
      "1920/1920 [==============================] - 4s 2ms/step - loss: 0.0246 - accuracy: 0.9917 - val_loss: 0.0259 - val_accuracy: 0.9928\n",
      "Epoch 25/100\n",
      "1920/1920 [==============================] - 4s 2ms/step - loss: 0.0234 - accuracy: 0.9922 - val_loss: 0.0246 - val_accuracy: 0.9914\n",
      "Epoch 26/100\n",
      "1920/1920 [==============================] - 4s 2ms/step - loss: 0.0241 - accuracy: 0.9920 - val_loss: 0.0251 - val_accuracy: 0.9935\n",
      "Epoch 27/100\n",
      "1920/1920 [==============================] - 4s 2ms/step - loss: 0.0234 - accuracy: 0.9920 - val_loss: 0.0279 - val_accuracy: 0.9911\n",
      "Epoch 28/100\n",
      "1920/1920 [==============================] - 4s 2ms/step - loss: 0.0245 - accuracy: 0.9918 - val_loss: 0.0255 - val_accuracy: 0.9924\n",
      "Epoch 29/100\n",
      "1920/1920 [==============================] - 4s 2ms/step - loss: 0.0233 - accuracy: 0.9919 - val_loss: 0.0261 - val_accuracy: 0.9924\n",
      "Epoch 30/100\n",
      "1920/1920 [==============================] - 4s 2ms/step - loss: 0.0232 - accuracy: 0.9924 - val_loss: 0.0279 - val_accuracy: 0.9916\n",
      "Epoch 31/100\n",
      "1920/1920 [==============================] - 4s 2ms/step - loss: 0.0233 - accuracy: 0.9925 - val_loss: 0.0249 - val_accuracy: 0.9926\n",
      "Epoch 32/100\n",
      "1920/1920 [==============================] - 4s 2ms/step - loss: 0.0225 - accuracy: 0.9925 - val_loss: 0.0290 - val_accuracy: 0.9925\n",
      "Epoch 33/100\n",
      "1920/1920 [==============================] - 4s 2ms/step - loss: 0.0224 - accuracy: 0.9923 - val_loss: 0.0248 - val_accuracy: 0.9931\n",
      "Epoch 34/100\n",
      "1920/1920 [==============================] - 4s 2ms/step - loss: 0.0213 - accuracy: 0.9930 - val_loss: 0.0248 - val_accuracy: 0.9926\n",
      "Epoch 35/100\n",
      "1920/1920 [==============================] - 4s 2ms/step - loss: 0.0230 - accuracy: 0.9922 - val_loss: 0.0252 - val_accuracy: 0.9928\n",
      "Epoch 36/100\n",
      "1920/1920 [==============================] - 4s 2ms/step - loss: 0.0216 - accuracy: 0.9922 - val_loss: 0.0258 - val_accuracy: 0.9924\n",
      "Epoch 37/100\n",
      "1920/1920 [==============================] - 4s 2ms/step - loss: 0.0232 - accuracy: 0.9917 - val_loss: 0.0282 - val_accuracy: 0.9926\n",
      "Epoch 38/100\n",
      "1920/1920 [==============================] - 4s 2ms/step - loss: 0.0235 - accuracy: 0.9924 - val_loss: 0.0272 - val_accuracy: 0.9920\n",
      "Epoch 39/100\n",
      "1920/1920 [==============================] - 4s 2ms/step - loss: 0.0226 - accuracy: 0.9920 - val_loss: 0.0284 - val_accuracy: 0.9932\n",
      "Epoch 40/100\n",
      "1920/1920 [==============================] - 4s 2ms/step - loss: 0.0236 - accuracy: 0.9922 - val_loss: 0.0285 - val_accuracy: 0.9916\n",
      "Epoch 41/100\n",
      "1920/1920 [==============================] - 4s 2ms/step - loss: 0.0222 - accuracy: 0.9929 - val_loss: 0.0293 - val_accuracy: 0.9918\n",
      "Epoch 42/100\n",
      "1920/1920 [==============================] - 4s 2ms/step - loss: 0.0221 - accuracy: 0.9927 - val_loss: 0.0257 - val_accuracy: 0.9927\n",
      "Epoch 43/100\n",
      "1920/1920 [==============================] - 4s 2ms/step - loss: 0.0207 - accuracy: 0.9931 - val_loss: 0.0268 - val_accuracy: 0.9914\n",
      "Epoch 44/100\n",
      "1920/1920 [==============================] - 4s 2ms/step - loss: 0.0227 - accuracy: 0.9933 - val_loss: 0.0273 - val_accuracy: 0.9931\n",
      "Epoch 45/100\n",
      "1920/1920 [==============================] - 4s 2ms/step - loss: 0.0217 - accuracy: 0.9929 - val_loss: 0.0265 - val_accuracy: 0.9922\n",
      "Epoch 46/100\n",
      "1920/1920 [==============================] - 4s 2ms/step - loss: 0.0225 - accuracy: 0.9930 - val_loss: 0.0281 - val_accuracy: 0.9926\n",
      "Epoch 47/100\n",
      "1920/1920 [==============================] - 4s 2ms/step - loss: 0.0221 - accuracy: 0.9926 - val_loss: 0.0262 - val_accuracy: 0.9929\n",
      "Epoch 48/100\n",
      "1920/1920 [==============================] - 4s 2ms/step - loss: 0.0224 - accuracy: 0.9932 - val_loss: 0.0294 - val_accuracy: 0.9923\n",
      "Epoch 49/100\n",
      "1920/1920 [==============================] - 4s 2ms/step - loss: 0.0237 - accuracy: 0.9920 - val_loss: 0.0286 - val_accuracy: 0.9927\n",
      "Epoch 50/100\n",
      "1920/1920 [==============================] - 4s 2ms/step - loss: 0.0226 - accuracy: 0.9927 - val_loss: 0.0274 - val_accuracy: 0.9933\n",
      "Epoch 51/100\n",
      "1920/1920 [==============================] - 4s 2ms/step - loss: 0.0213 - accuracy: 0.9925 - val_loss: 0.0297 - val_accuracy: 0.9926\n",
      "Epoch 52/100\n",
      "1920/1920 [==============================] - 4s 2ms/step - loss: 0.0221 - accuracy: 0.9928 - val_loss: 0.0321 - val_accuracy: 0.9922\n",
      "Epoch 53/100\n",
      "1920/1920 [==============================] - 4s 2ms/step - loss: 0.0211 - accuracy: 0.9930 - val_loss: 0.0299 - val_accuracy: 0.9922\n",
      "Epoch 54/100\n",
      "1920/1920 [==============================] - 4s 2ms/step - loss: 0.0224 - accuracy: 0.9929 - val_loss: 0.0300 - val_accuracy: 0.9921\n",
      "Epoch 55/100\n",
      "1920/1920 [==============================] - 4s 2ms/step - loss: 0.0198 - accuracy: 0.9926 - val_loss: 0.0299 - val_accuracy: 0.9927\n",
      "Epoch 56/100\n",
      "1920/1920 [==============================] - 4s 2ms/step - loss: 0.0203 - accuracy: 0.9924 - val_loss: 0.0274 - val_accuracy: 0.9924\n",
      "Epoch 57/100\n",
      "1920/1920 [==============================] - 4s 2ms/step - loss: 0.0213 - accuracy: 0.9929 - val_loss: 0.0292 - val_accuracy: 0.9927\n",
      "Epoch 58/100\n",
      "1920/1920 [==============================] - 4s 2ms/step - loss: 0.0218 - accuracy: 0.9925 - val_loss: 0.0271 - val_accuracy: 0.9928\n",
      "Epoch 59/100\n",
      "1920/1920 [==============================] - 4s 2ms/step - loss: 0.0206 - accuracy: 0.9933 - val_loss: 0.0323 - val_accuracy: 0.9928\n",
      "Epoch 60/100\n",
      "1920/1920 [==============================] - 4s 2ms/step - loss: 0.0196 - accuracy: 0.9934 - val_loss: 0.0297 - val_accuracy: 0.9927\n",
      "Epoch 61/100\n",
      "1920/1920 [==============================] - 4s 2ms/step - loss: 0.0220 - accuracy: 0.9938 - val_loss: 0.0289 - val_accuracy: 0.9923\n",
      "Epoch 62/100\n",
      "1920/1920 [==============================] - 4s 2ms/step - loss: 0.0209 - accuracy: 0.9927 - val_loss: 0.0337 - val_accuracy: 0.9922\n",
      "Epoch 63/100\n",
      "1920/1920 [==============================] - 4s 2ms/step - loss: 0.0207 - accuracy: 0.9934 - val_loss: 0.0327 - val_accuracy: 0.9929\n",
      "Epoch 64/100\n",
      "1920/1920 [==============================] - 4s 2ms/step - loss: 0.0206 - accuracy: 0.9940 - val_loss: 0.0287 - val_accuracy: 0.9923\n",
      "Epoch 65/100\n",
      "1920/1920 [==============================] - 4s 2ms/step - loss: 0.0217 - accuracy: 0.9926 - val_loss: 0.0325 - val_accuracy: 0.9931\n",
      "Epoch 66/100\n",
      "1920/1920 [==============================] - 4s 2ms/step - loss: 0.0199 - accuracy: 0.9935 - val_loss: 0.0318 - val_accuracy: 0.9921\n",
      "Epoch 67/100\n",
      "1920/1920 [==============================] - 4s 2ms/step - loss: 0.0220 - accuracy: 0.9929 - val_loss: 0.0351 - val_accuracy: 0.9920\n",
      "Epoch 68/100\n",
      "1920/1920 [==============================] - 4s 2ms/step - loss: 0.0225 - accuracy: 0.9930 - val_loss: 0.0315 - val_accuracy: 0.9921\n",
      "Epoch 69/100\n",
      "1920/1920 [==============================] - 4s 2ms/step - loss: 0.0207 - accuracy: 0.9930 - val_loss: 0.0333 - val_accuracy: 0.9925\n",
      "Epoch 70/100\n",
      "1920/1920 [==============================] - 4s 2ms/step - loss: 0.0213 - accuracy: 0.9938 - val_loss: 0.0354 - val_accuracy: 0.9924\n",
      "Epoch 71/100\n",
      "1920/1920 [==============================] - 4s 2ms/step - loss: 0.0209 - accuracy: 0.9934 - val_loss: 0.0341 - val_accuracy: 0.9914\n",
      "Epoch 72/100\n",
      "1920/1920 [==============================] - 4s 2ms/step - loss: 0.0214 - accuracy: 0.9932 - val_loss: 0.0313 - val_accuracy: 0.9925\n",
      "Epoch 73/100\n",
      "1920/1920 [==============================] - 4s 2ms/step - loss: 0.0195 - accuracy: 0.9941 - val_loss: 0.0325 - val_accuracy: 0.9925\n",
      "Epoch 74/100\n",
      "1920/1920 [==============================] - 4s 2ms/step - loss: 0.0388 - accuracy: 0.9936 - val_loss: 0.0392 - val_accuracy: 0.9925\n",
      "Epoch 75/100\n",
      "1920/1920 [==============================] - 4s 2ms/step - loss: 0.0223 - accuracy: 0.9924 - val_loss: 0.0312 - val_accuracy: 0.9924\n",
      "Epoch 76/100\n",
      "1920/1920 [==============================] - 4s 2ms/step - loss: 0.0185 - accuracy: 0.9938 - val_loss: 0.0336 - val_accuracy: 0.9918\n",
      "Epoch 77/100\n",
      "1920/1920 [==============================] - 4s 2ms/step - loss: 0.0201 - accuracy: 0.9932 - val_loss: 0.0288 - val_accuracy: 0.9919\n",
      "Epoch 78/100\n",
      "1920/1920 [==============================] - 4s 2ms/step - loss: 0.0200 - accuracy: 0.9942 - val_loss: 0.0282 - val_accuracy: 0.9919\n",
      "Epoch 79/100\n",
      "1920/1920 [==============================] - 4s 2ms/step - loss: 0.0212 - accuracy: 0.9932 - val_loss: 0.0283 - val_accuracy: 0.9925\n",
      "Epoch 80/100\n",
      "1920/1920 [==============================] - 4s 2ms/step - loss: 0.0199 - accuracy: 0.9934 - val_loss: 0.0335 - val_accuracy: 0.9930\n",
      "Epoch 81/100\n",
      "1920/1920 [==============================] - 4s 2ms/step - loss: 0.0189 - accuracy: 0.9936 - val_loss: 0.0316 - val_accuracy: 0.9921\n",
      "Epoch 82/100\n",
      "1920/1920 [==============================] - 4s 2ms/step - loss: 0.0200 - accuracy: 0.9934 - val_loss: 0.0331 - val_accuracy: 0.9921\n",
      "Epoch 83/100\n",
      "1920/1920 [==============================] - 4s 2ms/step - loss: 0.0199 - accuracy: 0.9940 - val_loss: 0.0357 - val_accuracy: 0.9931\n",
      "Epoch 84/100\n",
      "1920/1920 [==============================] - 4s 2ms/step - loss: 0.0186 - accuracy: 0.9942 - val_loss: 0.0306 - val_accuracy: 0.9929\n",
      "Epoch 85/100\n",
      "1920/1920 [==============================] - 4s 2ms/step - loss: 0.0185 - accuracy: 0.9939 - val_loss: 0.0319 - val_accuracy: 0.9927\n",
      "Epoch 86/100\n",
      "1920/1920 [==============================] - 4s 2ms/step - loss: 0.0188 - accuracy: 0.9944 - val_loss: 0.0333 - val_accuracy: 0.9921\n",
      "Epoch 87/100\n",
      "1920/1920 [==============================] - 4s 2ms/step - loss: 0.0197 - accuracy: 0.9943 - val_loss: 0.0335 - val_accuracy: 0.9930\n",
      "Epoch 88/100\n",
      "1920/1920 [==============================] - 4s 2ms/step - loss: 0.0200 - accuracy: 0.9935 - val_loss: 0.0318 - val_accuracy: 0.9928\n",
      "Epoch 89/100\n",
      "1920/1920 [==============================] - 4s 2ms/step - loss: 0.0195 - accuracy: 0.9937 - val_loss: 0.0313 - val_accuracy: 0.9926\n",
      "Epoch 90/100\n",
      "1920/1920 [==============================] - 4s 2ms/step - loss: 0.0186 - accuracy: 0.9938 - val_loss: 0.0311 - val_accuracy: 0.9919\n",
      "Epoch 91/100\n",
      "1920/1920 [==============================] - 4s 2ms/step - loss: 0.0167 - accuracy: 0.9949 - val_loss: 0.0357 - val_accuracy: 0.9920\n",
      "Epoch 92/100\n",
      "1920/1920 [==============================] - 4s 2ms/step - loss: 0.0220 - accuracy: 0.9933 - val_loss: 0.0401 - val_accuracy: 0.9925\n",
      "Epoch 93/100\n",
      "1920/1920 [==============================] - 4s 2ms/step - loss: 0.0208 - accuracy: 0.9938 - val_loss: 0.0300 - val_accuracy: 0.9923\n",
      "Epoch 94/100\n",
      "1920/1920 [==============================] - 4s 2ms/step - loss: 0.0205 - accuracy: 0.9935 - val_loss: 0.0343 - val_accuracy: 0.9928\n",
      "Epoch 95/100\n",
      "1920/1920 [==============================] - 4s 2ms/step - loss: 0.0169 - accuracy: 0.9944 - val_loss: 0.0375 - val_accuracy: 0.9919\n",
      "Epoch 96/100\n",
      "1920/1920 [==============================] - 4s 2ms/step - loss: 0.0197 - accuracy: 0.9947 - val_loss: 0.0338 - val_accuracy: 0.9923\n",
      "Epoch 97/100\n",
      "1920/1920 [==============================] - 4s 2ms/step - loss: 0.0190 - accuracy: 0.9942 - val_loss: 0.0333 - val_accuracy: 0.9926\n",
      "Epoch 98/100\n",
      "1920/1920 [==============================] - 4s 2ms/step - loss: 0.0196 - accuracy: 0.9944 - val_loss: 0.0375 - val_accuracy: 0.9924\n",
      "Epoch 99/100\n",
      "1920/1920 [==============================] - 4s 2ms/step - loss: 0.0196 - accuracy: 0.9935 - val_loss: 0.0398 - val_accuracy: 0.9924\n",
      "Epoch 100/100\n",
      "1920/1920 [==============================] - 4s 2ms/step - loss: 0.0190 - accuracy: 0.9936 - val_loss: 0.0407 - val_accuracy: 0.9921\n"
     ]
    },
    {
     "data": {
      "text/plain": [
       "<tensorflow.python.keras.callbacks.History at 0x17d374d8910>"
      ]
     },
     "execution_count": 5,
     "metadata": {},
     "output_type": "execute_result"
    }
   ],
   "source": [
    "# Fit the Model\n",
    "model.fit(X_train, y_train, epochs=100, batch_size=20, verbose=1, validation_split=0.2, shuffle=False)"
   ]
  },
  {
   "cell_type": "code",
   "execution_count": 8,
   "id": "hollywood-swiss",
   "metadata": {},
   "outputs": [
    {
     "name": "stderr",
     "output_type": "stream",
     "text": [
      "c:\\users\\vahidbabaey\\appdata\\local\\programs\\python\\python38\\lib\\site-packages\\tensorflow\\python\\keras\\engine\\sequential.py:425: UserWarning: `model.predict_proba()` is deprecated and will be removed after 2021-01-01. Please use `model.predict()` instead.\n",
      "  warnings.warn('`model.predict_proba()` is deprecated and '\n"
     ]
    }
   ],
   "source": [
    "y_pred = model.predict(X_test)\n",
    "y_pred_prob = model.predict_proba(X_test)"
   ]
  },
  {
   "cell_type": "code",
   "execution_count": 9,
   "id": "plain-computer",
   "metadata": {},
   "outputs": [
    {
     "name": "stdout",
     "output_type": "stream",
     "text": [
      "[[11748    40]\n",
      " [   74   138]]\n"
     ]
    }
   ],
   "source": [
    "from sklearn.metrics import confusion_matrix\n",
    "y_pred_class1 = y_pred > 0.5\n",
    "cm = confusion_matrix(y_test, y_pred_class1)\n",
    "print(cm)"
   ]
  },
  {
   "cell_type": "code",
   "execution_count": 10,
   "id": "rolled-natural",
   "metadata": {},
   "outputs": [],
   "source": [
    "# True Negative\n",
    "TN = cm[0,0]\n",
    "\n",
    "# False Negative\n",
    "FN=cm[1,0]\n",
    "\n",
    "# False Positives\n",
    "FP = cm[0,1]\n",
    "\n",
    "# True Positives\n",
    "TP = cm[1,1]"
   ]
  },
  {
   "cell_type": "code",
   "execution_count": 11,
   "id": "assumed-establishment",
   "metadata": {},
   "outputs": [
    {
     "name": "stdout",
     "output_type": "stream",
     "text": [
      "Sensitivity: 0.6509\n"
     ]
    }
   ],
   "source": [
    "# Calculating Sensitivity\n",
    "Sensitivity = TP / (TP + FN)\n",
    "print(f'Sensitivity: {Sensitivity:.4f}')"
   ]
  },
  {
   "cell_type": "code",
   "execution_count": 12,
   "id": "fixed-alias",
   "metadata": {},
   "outputs": [
    {
     "name": "stdout",
     "output_type": "stream",
     "text": [
      "Specificity: 0.9966\n"
     ]
    }
   ],
   "source": [
    "# Calculating Specificity\n",
    "Specificity = TN / (TN + FP)\n",
    "print(f'Specificity: {Specificity:.4f}')"
   ]
  },
  {
   "cell_type": "code",
   "execution_count": 13,
   "id": "weird-doctor",
   "metadata": {},
   "outputs": [
    {
     "name": "stdout",
     "output_type": "stream",
     "text": [
      "Precision: 0.7753\n"
     ]
    }
   ],
   "source": [
    "# Precision\n",
    "Precision = TP / (TP + FP)\n",
    "print(f'Precision: {Precision:.4f}')"
   ]
  },
  {
   "cell_type": "code",
   "execution_count": 14,
   "id": "continuous-schema",
   "metadata": {},
   "outputs": [
    {
     "name": "stdout",
     "output_type": "stream",
     "text": [
      "False positive rate: 0.0034\n"
     ]
    }
   ],
   "source": [
    "# Calculate False positive rate\n",
    "False_Positive_rate = FP / (FP + TN)\n",
    "print(f'False positive rate: {False_Positive_rate:.4f}')"
   ]
  },
  {
   "cell_type": "code",
   "execution_count": 15,
   "id": "gross-intellectual",
   "metadata": {},
   "outputs": [],
   "source": [
    "y_pred_class2 = y_pred > 0.3"
   ]
  },
  {
   "cell_type": "code",
   "execution_count": 16,
   "id": "double-latitude",
   "metadata": {},
   "outputs": [
    {
     "name": "stdout",
     "output_type": "stream",
     "text": [
      "[[11743    45]\n",
      " [   71   141]]\n"
     ]
    }
   ],
   "source": [
    "cm=confusion_matrix(y_test,y_pred_class2)\n",
    "print(cm)"
   ]
  },
  {
   "cell_type": "code",
   "execution_count": 17,
   "id": "lined-chaos",
   "metadata": {},
   "outputs": [],
   "source": [
    "# True Negative\n",
    "TN = cm[0,0]\n",
    "\n",
    "# False Negative\n",
    "FN=cm[1,0]\n",
    "\n",
    "# False Positives\n",
    "FP = cm[0,1]\n",
    "\n",
    "# True Positives\n",
    "TP = cm[1,1]"
   ]
  },
  {
   "cell_type": "code",
   "execution_count": 18,
   "id": "nearby-score",
   "metadata": {},
   "outputs": [
    {
     "name": "stdout",
     "output_type": "stream",
     "text": [
      "Sensitivity: 0.6651\n"
     ]
    }
   ],
   "source": [
    "# Calculating Sensitivity\n",
    "Sensitivity = TP / (TP + FN)\n",
    "print(f'Sensitivity: {Sensitivity:.4f}')"
   ]
  },
  {
   "cell_type": "code",
   "execution_count": 19,
   "id": "terminal-thailand",
   "metadata": {},
   "outputs": [
    {
     "name": "stdout",
     "output_type": "stream",
     "text": [
      "Specificity: 0.9962\n"
     ]
    }
   ],
   "source": [
    "# Calculating Specificity\n",
    "Specificity = TN / (TN + FP)\n",
    "print(f'Specificity: {Specificity:.4f}')"
   ]
  },
  {
   "cell_type": "code",
   "execution_count": 20,
   "id": "canadian-allen",
   "metadata": {},
   "outputs": [
    {
     "data": {
      "image/png": "[encoded data removed]",
      "text/plain": [
       "<Figure size 432x288 with 1 Axes>"
      ]
     },
     "metadata": {
      "needs_background": "light"
     },
     "output_type": "display_data"
    }
   ],
   "source": [
    "import matplotlib.pyplot as plt\n",
    "%matplotlib inline\n",
    "#histogram of class distribution\n",
    "plt.hist(y_pred_prob, bins=100)\n",
    "plt.title(\"Histogram of Predicted Probabilities\")\n",
    "plt.xlabel(\"Predicted Probabilities of APS failure\")\n",
    "plt.ylabel(\"Frequency\")\n",
    "plt.show()"
   ]
  },
  {
   "cell_type": "code",
   "execution_count": null,
   "id": "unique-affect",
   "metadata": {},
   "outputs": [],
   "source": []
  }
 ],
 "metadata": {
  "kernelspec": {
   "display_name": "Python 3",
   "language": "python",
   "name": "python3"
  },
  "language_info": {
   "codemirror_mode": {
    "name": "ipython",
    "version": 3
   },
   "file_extension": ".py",
   "mimetype": "text/x-python",
   "name": "python",
   "nbconvert_exporter": "python",
   "pygments_lexer": "ipython3",
   "version": "3.8.0"
  }
 },
 "nbformat": 4,
 "nbformat_minor": 5
}
